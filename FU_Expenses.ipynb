{
  "nbformat": 4,
  "nbformat_minor": 0,
  "metadata": {
    "colab": {
      "provenance": [],
      "mount_file_id": "1qOg7ndnRgCoak7DJgvnqOOcoIDmFpIyh",
      "authorship_tag": "ABX9TyOwUGuR7tH6N809mF7asXBe",
      "include_colab_link": true
    },
    "kernelspec": {
      "name": "python3",
      "display_name": "Python 3"
    },
    "language_info": {
      "name": "python"
    }
  },
  "cells": [
    {
      "cell_type": "markdown",
      "metadata": {
        "id": "view-in-github",
        "colab_type": "text"
      },
      "source": [
        "<a href=\"https://colab.research.google.com/github/abertel99/Finance_FU/blob/main/FU_Expenses.ipynb\" target=\"_parent\"><img src=\"https://colab.research.google.com/assets/colab-badge.svg\" alt=\"Open In Colab\"/></a>"
      ]
    },
    {
      "cell_type": "markdown",
      "source": [
        "# Connect to ggdrive and load data"
      ],
      "metadata": {
        "id": "6hT73Wfbvg9d"
      }
    },
    {
      "cell_type": "code",
      "execution_count": 4,
      "metadata": {
        "colab": {
          "base_uri": "https://localhost:8080/"
        },
        "id": "4MBUXo4gthIr",
        "outputId": "cba795aa-a5c2-47da-8b3d-f580cfaba3b9"
      },
      "outputs": [
        {
          "output_type": "stream",
          "name": "stdout",
          "text": [
            "Mounted at /content/gdrive\n"
          ]
        }
      ],
      "source": [
        "from google.colab import drive\n",
        "drive.mount(\"/content/gdrive\")"
      ]
    },
    {
      "cell_type": "code",
      "source": [
        "import pandas as pd\n",
        "data_2022 = pd.read_excel(\"/content/gdrive/MyDrive/Finances/suivi_depenses/2022.xlsx\")\n",
        "data_2023 = pd.read_excel(\"/content/gdrive/MyDrive/Finances/suivi_depenses/2023.xlsx\")"
      ],
      "metadata": {
        "id": "Hi7WSBqdwN4t"
      },
      "execution_count": 11,
      "outputs": []
    },
    {
      "cell_type": "code",
      "source": [
        "data = pd.concat([data_2022, data_2023])\n",
        "data.head()"
      ],
      "metadata": {
        "colab": {
          "base_uri": "https://localhost:8080/",
          "height": 354
        },
        "id": "RDoGGLR9xQuQ",
        "outputId": "fa511780-a6ac-4b69-d4d0-81e915ea7b70"
      },
      "execution_count": 13,
      "outputs": [
        {
          "output_type": "execute_result",
          "data": {
            "text/plain": [
              "        Date                                            Libellé  Debit euros  \\\n",
              "0 2022-06-29  VIREMENT EN VOTRE FAVEUR\\nLA REDOUTE 2752875/2...          NaN   \n",
              "1 2022-06-27  PAIEMENT PAR CARTE      \\n1022 BURGER KING LOU...        15.65   \n",
              "2 2022-06-27  PAIEMENT PAR CARTE      \\nSpotify P1C2CAD442 S...         9.99   \n",
              "3 2022-06-27  PAIEMENT PAR CARTE      \\nL'IMPERTINENTE LILLE...         4.80   \n",
              "4 2022-06-22  PAIEMENT PAR CARTE      \\nLA MOULINETTE LILLE ...         8.50   \n",
              "\n",
              "   Credit euros      Categorie     Sub_cat  Abonnement          Infos  \\\n",
              "0         783.2         Salary   LaRedoute         0.0          STAGE   \n",
              "1           NaN           Food  Restaurant         0.0     BURGERKING   \n",
              "2           NaN  Entertainment       Music         1.0        SPOTIFY   \n",
              "3           NaN         Sortie     Tea Bar         0.0  LIMPERTINENTE   \n",
              "4           NaN         Sortie         Bar         0.0   LAMOULINETTE   \n",
              "\n",
              "   Débit euros  Crédit euros  \n",
              "0          NaN           NaN  \n",
              "1          NaN           NaN  \n",
              "2          NaN           NaN  \n",
              "3          NaN           NaN  \n",
              "4          NaN           NaN  "
            ],
            "text/html": [
              "\n",
              "  <div id=\"df-c70bfd90-cc25-4825-b7f7-697d36e74a36\">\n",
              "    <div class=\"colab-df-container\">\n",
              "      <div>\n",
              "<style scoped>\n",
              "    .dataframe tbody tr th:only-of-type {\n",
              "        vertical-align: middle;\n",
              "    }\n",
              "\n",
              "    .dataframe tbody tr th {\n",
              "        vertical-align: top;\n",
              "    }\n",
              "\n",
              "    .dataframe thead th {\n",
              "        text-align: right;\n",
              "    }\n",
              "</style>\n",
              "<table border=\"1\" class=\"dataframe\">\n",
              "  <thead>\n",
              "    <tr style=\"text-align: right;\">\n",
              "      <th></th>\n",
              "      <th>Date</th>\n",
              "      <th>Libellé</th>\n",
              "      <th>Debit euros</th>\n",
              "      <th>Credit euros</th>\n",
              "      <th>Categorie</th>\n",
              "      <th>Sub_cat</th>\n",
              "      <th>Abonnement</th>\n",
              "      <th>Infos</th>\n",
              "      <th>Débit euros</th>\n",
              "      <th>Crédit euros</th>\n",
              "    </tr>\n",
              "  </thead>\n",
              "  <tbody>\n",
              "    <tr>\n",
              "      <th>0</th>\n",
              "      <td>2022-06-29</td>\n",
              "      <td>VIREMENT EN VOTRE FAVEUR\\nLA REDOUTE 2752875/2...</td>\n",
              "      <td>NaN</td>\n",
              "      <td>783.2</td>\n",
              "      <td>Salary</td>\n",
              "      <td>LaRedoute</td>\n",
              "      <td>0.0</td>\n",
              "      <td>STAGE</td>\n",
              "      <td>NaN</td>\n",
              "      <td>NaN</td>\n",
              "    </tr>\n",
              "    <tr>\n",
              "      <th>1</th>\n",
              "      <td>2022-06-27</td>\n",
              "      <td>PAIEMENT PAR CARTE      \\n1022 BURGER KING LOU...</td>\n",
              "      <td>15.65</td>\n",
              "      <td>NaN</td>\n",
              "      <td>Food</td>\n",
              "      <td>Restaurant</td>\n",
              "      <td>0.0</td>\n",
              "      <td>BURGERKING</td>\n",
              "      <td>NaN</td>\n",
              "      <td>NaN</td>\n",
              "    </tr>\n",
              "    <tr>\n",
              "      <th>2</th>\n",
              "      <td>2022-06-27</td>\n",
              "      <td>PAIEMENT PAR CARTE      \\nSpotify P1C2CAD442 S...</td>\n",
              "      <td>9.99</td>\n",
              "      <td>NaN</td>\n",
              "      <td>Entertainment</td>\n",
              "      <td>Music</td>\n",
              "      <td>1.0</td>\n",
              "      <td>SPOTIFY</td>\n",
              "      <td>NaN</td>\n",
              "      <td>NaN</td>\n",
              "    </tr>\n",
              "    <tr>\n",
              "      <th>3</th>\n",
              "      <td>2022-06-27</td>\n",
              "      <td>PAIEMENT PAR CARTE      \\nL'IMPERTINENTE LILLE...</td>\n",
              "      <td>4.80</td>\n",
              "      <td>NaN</td>\n",
              "      <td>Sortie</td>\n",
              "      <td>Tea Bar</td>\n",
              "      <td>0.0</td>\n",
              "      <td>LIMPERTINENTE</td>\n",
              "      <td>NaN</td>\n",
              "      <td>NaN</td>\n",
              "    </tr>\n",
              "    <tr>\n",
              "      <th>4</th>\n",
              "      <td>2022-06-22</td>\n",
              "      <td>PAIEMENT PAR CARTE      \\nLA MOULINETTE LILLE ...</td>\n",
              "      <td>8.50</td>\n",
              "      <td>NaN</td>\n",
              "      <td>Sortie</td>\n",
              "      <td>Bar</td>\n",
              "      <td>0.0</td>\n",
              "      <td>LAMOULINETTE</td>\n",
              "      <td>NaN</td>\n",
              "      <td>NaN</td>\n",
              "    </tr>\n",
              "  </tbody>\n",
              "</table>\n",
              "</div>\n",
              "      <button class=\"colab-df-convert\" onclick=\"convertToInteractive('df-c70bfd90-cc25-4825-b7f7-697d36e74a36')\"\n",
              "              title=\"Convert this dataframe to an interactive table.\"\n",
              "              style=\"display:none;\">\n",
              "        \n",
              "  <svg xmlns=\"http://www.w3.org/2000/svg\" height=\"24px\"viewBox=\"0 0 24 24\"\n",
              "       width=\"24px\">\n",
              "    <path d=\"M0 0h24v24H0V0z\" fill=\"none\"/>\n",
              "    <path d=\"M18.56 5.44l.94 2.06.94-2.06 2.06-.94-2.06-.94-.94-2.06-.94 2.06-2.06.94zm-11 1L8.5 8.5l.94-2.06 2.06-.94-2.06-.94L8.5 2.5l-.94 2.06-2.06.94zm10 10l.94 2.06.94-2.06 2.06-.94-2.06-.94-.94-2.06-.94 2.06-2.06.94z\"/><path d=\"M17.41 7.96l-1.37-1.37c-.4-.4-.92-.59-1.43-.59-.52 0-1.04.2-1.43.59L10.3 9.45l-7.72 7.72c-.78.78-.78 2.05 0 2.83L4 21.41c.39.39.9.59 1.41.59.51 0 1.02-.2 1.41-.59l7.78-7.78 2.81-2.81c.8-.78.8-2.07 0-2.86zM5.41 20L4 18.59l7.72-7.72 1.47 1.35L5.41 20z\"/>\n",
              "  </svg>\n",
              "      </button>\n",
              "      \n",
              "  <style>\n",
              "    .colab-df-container {\n",
              "      display:flex;\n",
              "      flex-wrap:wrap;\n",
              "      gap: 12px;\n",
              "    }\n",
              "\n",
              "    .colab-df-convert {\n",
              "      background-color: #E8F0FE;\n",
              "      border: none;\n",
              "      border-radius: 50%;\n",
              "      cursor: pointer;\n",
              "      display: none;\n",
              "      fill: #1967D2;\n",
              "      height: 32px;\n",
              "      padding: 0 0 0 0;\n",
              "      width: 32px;\n",
              "    }\n",
              "\n",
              "    .colab-df-convert:hover {\n",
              "      background-color: #E2EBFA;\n",
              "      box-shadow: 0px 1px 2px rgba(60, 64, 67, 0.3), 0px 1px 3px 1px rgba(60, 64, 67, 0.15);\n",
              "      fill: #174EA6;\n",
              "    }\n",
              "\n",
              "    [theme=dark] .colab-df-convert {\n",
              "      background-color: #3B4455;\n",
              "      fill: #D2E3FC;\n",
              "    }\n",
              "\n",
              "    [theme=dark] .colab-df-convert:hover {\n",
              "      background-color: #434B5C;\n",
              "      box-shadow: 0px 1px 3px 1px rgba(0, 0, 0, 0.15);\n",
              "      filter: drop-shadow(0px 1px 2px rgba(0, 0, 0, 0.3));\n",
              "      fill: #FFFFFF;\n",
              "    }\n",
              "  </style>\n",
              "\n",
              "      <script>\n",
              "        const buttonEl =\n",
              "          document.querySelector('#df-c70bfd90-cc25-4825-b7f7-697d36e74a36 button.colab-df-convert');\n",
              "        buttonEl.style.display =\n",
              "          google.colab.kernel.accessAllowed ? 'block' : 'none';\n",
              "\n",
              "        async function convertToInteractive(key) {\n",
              "          const element = document.querySelector('#df-c70bfd90-cc25-4825-b7f7-697d36e74a36');\n",
              "          const dataTable =\n",
              "            await google.colab.kernel.invokeFunction('convertToInteractive',\n",
              "                                                     [key], {});\n",
              "          if (!dataTable) return;\n",
              "\n",
              "          const docLinkHtml = 'Like what you see? Visit the ' +\n",
              "            '<a target=\"_blank\" href=https://colab.research.google.com/notebooks/data_table.ipynb>data table notebook</a>'\n",
              "            + ' to learn more about interactive tables.';\n",
              "          element.innerHTML = '';\n",
              "          dataTable['output_type'] = 'display_data';\n",
              "          await google.colab.output.renderOutput(dataTable, element);\n",
              "          const docLink = document.createElement('div');\n",
              "          docLink.innerHTML = docLinkHtml;\n",
              "          element.appendChild(docLink);\n",
              "        }\n",
              "      </script>\n",
              "    </div>\n",
              "  </div>\n",
              "  "
            ]
          },
          "metadata": {},
          "execution_count": 13
        }
      ]
    },
    {
      "cell_type": "markdown",
      "source": [
        "# Start exploring"
      ],
      "metadata": {
        "id": "sbR3yPHEx19B"
      }
    },
    {
      "cell_type": "code",
      "source": [
        "data.rename(columns={\"Libellé\": \"Label\", \"Debit euros\": \"Debit\", \"Credit euros\": \"Credit\"})\n",
        "data.dtypes"
      ],
      "metadata": {
        "colab": {
          "base_uri": "https://localhost:8080/"
        },
        "id": "pq55BzFqxWxm",
        "outputId": "51e923e8-cbbf-498d-b4b7-c9fe8f4fe376"
      },
      "execution_count": 15,
      "outputs": [
        {
          "output_type": "execute_result",
          "data": {
            "text/plain": [
              "Date            datetime64[ns]\n",
              "Libellé                 object\n",
              "Debit euros            float64\n",
              "Credit euros           float64\n",
              "Categorie               object\n",
              "Sub_cat                 object\n",
              "Abonnement             float64\n",
              "Infos                   object\n",
              "Débit euros            float64\n",
              "Crédit euros           float64\n",
              "dtype: object"
            ]
          },
          "metadata": {},
          "execution_count": 15
        }
      ]
    },
    {
      "cell_type": "code",
      "source": [],
      "metadata": {
        "id": "TYq56ziWyGna"
      },
      "execution_count": null,
      "outputs": []
    }
  ]
}